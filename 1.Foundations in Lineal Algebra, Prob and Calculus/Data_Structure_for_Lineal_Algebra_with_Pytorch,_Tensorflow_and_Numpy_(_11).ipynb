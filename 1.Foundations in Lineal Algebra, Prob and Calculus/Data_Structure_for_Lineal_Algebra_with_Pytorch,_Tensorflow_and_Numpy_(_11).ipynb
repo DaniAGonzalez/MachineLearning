{
  "nbformat": 4,
  "nbformat_minor": 0,
  "metadata": {
    "colab": {
      "provenance": []
    },
    "kernelspec": {
      "name": "python3",
      "display_name": "Python 3"
    },
    "language_info": {
      "name": "python"
    }
  },
  "cells": [
    {
      "cell_type": "code",
      "execution_count": null,
      "metadata": {
        "colab": {
          "base_uri": "https://localhost:8080/"
        },
        "id": "3-SdGQPgonT9",
        "outputId": "990c8e6a-b737-4b35-a69f-b78dd44628b9"
      },
      "outputs": [
        {
          "output_type": "execute_result",
          "data": {
            "text/plain": [
              "25"
            ]
          },
          "metadata": {},
          "execution_count": 1
        }
      ],
      "source": [
        "x = 25\n",
        "x"
      ]
    },
    {
      "cell_type": "code",
      "source": [
        "type(x)"
      ],
      "metadata": {
        "colab": {
          "base_uri": "https://localhost:8080/"
        },
        "id": "RUwKn9RXowzL",
        "outputId": "e1a3b805-c9db-46bb-8480-3da53b85fa12"
      },
      "execution_count": null,
      "outputs": [
        {
          "output_type": "execute_result",
          "data": {
            "text/plain": [
              "int"
            ]
          },
          "metadata": {},
          "execution_count": 2
        }
      ]
    },
    {
      "cell_type": "code",
      "source": [
        "y =3\n",
        "y"
      ],
      "metadata": {
        "colab": {
          "base_uri": "https://localhost:8080/"
        },
        "id": "KBCG_BLMozvj",
        "outputId": "e048504b-b600-4e1f-88a0-5d0f1139f307"
      },
      "execution_count": null,
      "outputs": [
        {
          "output_type": "execute_result",
          "data": {
            "text/plain": [
              "3"
            ]
          },
          "metadata": {},
          "execution_count": 3
        }
      ]
    },
    {
      "cell_type": "code",
      "source": [
        "type(y)"
      ],
      "metadata": {
        "colab": {
          "base_uri": "https://localhost:8080/"
        },
        "id": "MnlvGRizpRCl",
        "outputId": "c73729d5-1d34-4a1a-a476-2cdc689deaec"
      },
      "execution_count": null,
      "outputs": [
        {
          "output_type": "execute_result",
          "data": {
            "text/plain": [
              "int"
            ]
          },
          "metadata": {},
          "execution_count": 4
        }
      ]
    },
    {
      "cell_type": "code",
      "source": [
        "py_sum = x+y\n",
        "py_sum"
      ],
      "metadata": {
        "colab": {
          "base_uri": "https://localhost:8080/"
        },
        "id": "ggs9xd0DpSf3",
        "outputId": "7392e637-04f6-48b7-81ab-8160cab1929f"
      },
      "execution_count": null,
      "outputs": [
        {
          "output_type": "execute_result",
          "data": {
            "text/plain": [
              "28"
            ]
          },
          "metadata": {},
          "execution_count": 5
        }
      ]
    },
    {
      "cell_type": "markdown",
      "source": [
        "Scalars in Pytorch"
      ],
      "metadata": {
        "id": "6EDH-YGwqL2K"
      }
    },
    {
      "cell_type": "code",
      "source": [
        "import torch"
      ],
      "metadata": {
        "id": "A_t6fhOGpX6S"
      },
      "execution_count": null,
      "outputs": []
    },
    {
      "cell_type": "code",
      "source": [
        "x_pt = torch.tensor(25)\n",
        "x_pt"
      ],
      "metadata": {
        "colab": {
          "base_uri": "https://localhost:8080/"
        },
        "id": "GFrWR2PAqPoy",
        "outputId": "250b9a7b-f9b1-4af8-f17e-1ee37c468f42"
      },
      "execution_count": null,
      "outputs": [
        {
          "output_type": "execute_result",
          "data": {
            "text/plain": [
              "tensor(25)"
            ]
          },
          "metadata": {},
          "execution_count": 8
        }
      ]
    },
    {
      "cell_type": "code",
      "source": [
        "x_pt.shape"
      ],
      "metadata": {
        "colab": {
          "base_uri": "https://localhost:8080/"
        },
        "id": "Nm7oodJGsz-I",
        "outputId": "19245a29-e04b-4b2a-e8a8-97ab50f62424"
      },
      "execution_count": null,
      "outputs": [
        {
          "output_type": "execute_result",
          "data": {
            "text/plain": [
              "torch.Size([])"
            ]
          },
          "metadata": {},
          "execution_count": 9
        }
      ]
    },
    {
      "cell_type": "markdown",
      "source": [
        "**scalars in Tensorflow**"
      ],
      "metadata": {
        "id": "-veo4dTMs8so"
      }
    },
    {
      "cell_type": "code",
      "source": [
        "import tensorflow as tf"
      ],
      "metadata": {
        "id": "VD3uHIrDs2QH"
      },
      "execution_count": null,
      "outputs": []
    },
    {
      "cell_type": "code",
      "source": [
        "x_tf = tf.Variable(25, dtype=tf.int16)\n",
        "x_tf"
      ],
      "metadata": {
        "colab": {
          "base_uri": "https://localhost:8080/"
        },
        "id": "0fYLrj8ZtLmF",
        "outputId": "a6478933-bea2-40ab-cc75-83340f0d35a4"
      },
      "execution_count": null,
      "outputs": [
        {
          "output_type": "execute_result",
          "data": {
            "text/plain": [
              "<tf.Variable 'Variable:0' shape=() dtype=int16, numpy=25>"
            ]
          },
          "metadata": {},
          "execution_count": 13
        }
      ]
    },
    {
      "cell_type": "code",
      "source": [
        "x_tf.shape #it gonna be empty since this is a scalar, dimension zero"
      ],
      "metadata": {
        "colab": {
          "base_uri": "https://localhost:8080/"
        },
        "id": "513dBItRtYxW",
        "outputId": "22206c13-e550-411a-a032-9d428d77d0e5"
      },
      "execution_count": null,
      "outputs": [
        {
          "output_type": "execute_result",
          "data": {
            "text/plain": [
              "TensorShape([])"
            ]
          },
          "metadata": {},
          "execution_count": 14
        }
      ]
    },
    {
      "cell_type": "code",
      "source": [
        "y_tf = tf.Variable(3, dtype = tf.int16)"
      ],
      "metadata": {
        "id": "5SVAPB7ptml0"
      },
      "execution_count": null,
      "outputs": []
    },
    {
      "cell_type": "code",
      "source": [
        "x_tf + y_tf"
      ],
      "metadata": {
        "colab": {
          "base_uri": "https://localhost:8080/"
        },
        "id": "OMs0jjGNt4Gk",
        "outputId": "711c0e19-3dac-4293-ba50-5932358a3128"
      },
      "execution_count": null,
      "outputs": [
        {
          "output_type": "execute_result",
          "data": {
            "text/plain": [
              "<tf.Tensor: shape=(), dtype=int16, numpy=28>"
            ]
          },
          "metadata": {},
          "execution_count": 16
        }
      ]
    },
    {
      "cell_type": "code",
      "source": [
        "tf_sum= tf.add(x_tf, y_tf)\n",
        "tf_sum"
      ],
      "metadata": {
        "colab": {
          "base_uri": "https://localhost:8080/"
        },
        "id": "RmlIqUi-t67f",
        "outputId": "484dc2fc-aaa9-4b8b-cfe6-fd9f76f69e27"
      },
      "execution_count": null,
      "outputs": [
        {
          "output_type": "execute_result",
          "data": {
            "text/plain": [
              "<tf.Tensor: shape=(), dtype=int16, numpy=28>"
            ]
          },
          "metadata": {},
          "execution_count": 17
        }
      ]
    },
    {
      "cell_type": "code",
      "source": [
        "tf_sum.numpy()"
      ],
      "metadata": {
        "colab": {
          "base_uri": "https://localhost:8080/"
        },
        "id": "PoKwx0A1uAqy",
        "outputId": "2101f297-80e4-42c1-bbc0-3a01cbb991d5"
      },
      "execution_count": null,
      "outputs": [
        {
          "output_type": "execute_result",
          "data": {
            "text/plain": [
              "28"
            ]
          },
          "metadata": {},
          "execution_count": 18
        }
      ]
    },
    {
      "cell_type": "code",
      "source": [
        "type(tf_sum.numpy())"
      ],
      "metadata": {
        "colab": {
          "base_uri": "https://localhost:8080/"
        },
        "id": "4Kntiv6ruEWl",
        "outputId": "447fdd72-db4c-4651-80f6-2ae78e74e271"
      },
      "execution_count": null,
      "outputs": [
        {
          "output_type": "execute_result",
          "data": {
            "text/plain": [
              "numpy.int16"
            ]
          },
          "metadata": {},
          "execution_count": 19
        }
      ]
    },
    {
      "cell_type": "markdown",
      "source": [
        "**Vectors and vectors transposition**"
      ],
      "metadata": {
        "id": "AH5H9OmXaMCJ"
      }
    },
    {
      "cell_type": "code",
      "source": [
        "import numpy as np\n"
      ],
      "metadata": {
        "id": "iRx-zHCgaKTD"
      },
      "execution_count": null,
      "outputs": []
    },
    {
      "cell_type": "code",
      "source": [
        "x = np.array([25,2,5])\n",
        "x"
      ],
      "metadata": {
        "colab": {
          "base_uri": "https://localhost:8080/"
        },
        "id": "kvN8l4gaaSri",
        "outputId": "654453c4-ff0c-47ef-9e8c-9e0c31bb3f0c"
      },
      "execution_count": null,
      "outputs": [
        {
          "output_type": "execute_result",
          "data": {
            "text/plain": [
              "array([25,  2,  5])"
            ]
          },
          "metadata": {},
          "execution_count": 2
        }
      ]
    },
    {
      "cell_type": "code",
      "source": [
        "len(x)"
      ],
      "metadata": {
        "colab": {
          "base_uri": "https://localhost:8080/"
        },
        "id": "BsSRH57QaXJg",
        "outputId": "55a568f9-7739-4e50-ad4b-e7f690b2d7ff"
      },
      "execution_count": null,
      "outputs": [
        {
          "output_type": "execute_result",
          "data": {
            "text/plain": [
              "3"
            ]
          },
          "metadata": {},
          "execution_count": 3
        }
      ]
    },
    {
      "cell_type": "code",
      "source": [
        "x.shape"
      ],
      "metadata": {
        "colab": {
          "base_uri": "https://localhost:8080/"
        },
        "id": "ZE3Z0XD7aYxi",
        "outputId": "bac3019a-05cf-4a2c-9f0a-8a3d9dcf267b"
      },
      "execution_count": null,
      "outputs": [
        {
          "output_type": "execute_result",
          "data": {
            "text/plain": [
              "(3,)"
            ]
          },
          "metadata": {},
          "execution_count": 4
        }
      ]
    },
    {
      "cell_type": "code",
      "source": [
        "type(x)"
      ],
      "metadata": {
        "colab": {
          "base_uri": "https://localhost:8080/"
        },
        "id": "Ahp8t3TGaap1",
        "outputId": "44f2534d-b9f7-40df-80cc-f802356eaf8d"
      },
      "execution_count": null,
      "outputs": [
        {
          "output_type": "execute_result",
          "data": {
            "text/plain": [
              "numpy.ndarray"
            ]
          },
          "metadata": {},
          "execution_count": 5
        }
      ]
    },
    {
      "cell_type": "code",
      "source": [
        "x[0]"
      ],
      "metadata": {
        "colab": {
          "base_uri": "https://localhost:8080/"
        },
        "id": "qSpxBhUoadvU",
        "outputId": "0284783e-05bc-4612-bcf6-86f3b2b9bb14"
      },
      "execution_count": null,
      "outputs": [
        {
          "output_type": "execute_result",
          "data": {
            "text/plain": [
              "25"
            ]
          },
          "metadata": {},
          "execution_count": 6
        }
      ]
    },
    {
      "cell_type": "markdown",
      "source": [
        "**Transposing a vector**"
      ],
      "metadata": {
        "id": "KU-3HmssbGhg"
      }
    },
    {
      "cell_type": "code",
      "source": [
        "y = np.array([[25,2,5]])\n",
        "y"
      ],
      "metadata": {
        "colab": {
          "base_uri": "https://localhost:8080/"
        },
        "id": "pD22iUg_c5e0",
        "outputId": "1597e20f-e5a4-4747-9295-45e4f465ab94"
      },
      "execution_count": null,
      "outputs": [
        {
          "output_type": "execute_result",
          "data": {
            "text/plain": [
              "array([[25,  2,  5]])"
            ]
          },
          "metadata": {},
          "execution_count": 13
        }
      ]
    },
    {
      "cell_type": "code",
      "source": [
        "y.shape"
      ],
      "metadata": {
        "colab": {
          "base_uri": "https://localhost:8080/"
        },
        "id": "-TfxpUXGdLAR",
        "outputId": "7395c4fc-6cf6-47bf-ef7b-44858670e440"
      },
      "execution_count": null,
      "outputs": [
        {
          "output_type": "execute_result",
          "data": {
            "text/plain": [
              "(1, 3)"
            ]
          },
          "metadata": {},
          "execution_count": 14
        }
      ]
    },
    {
      "cell_type": "code",
      "source": [
        "y_t = y.T\n",
        "y_t"
      ],
      "metadata": {
        "colab": {
          "base_uri": "https://localhost:8080/"
        },
        "id": "jRADDx0wa-Ut",
        "outputId": "c739f004-975d-4866-b385-776902eb94f2"
      },
      "execution_count": null,
      "outputs": [
        {
          "output_type": "execute_result",
          "data": {
            "text/plain": [
              "array([[25],\n",
              "       [ 2],\n",
              "       [ 5]])"
            ]
          },
          "metadata": {},
          "execution_count": 15
        }
      ]
    },
    {
      "cell_type": "code",
      "source": [
        "y_t.shape"
      ],
      "metadata": {
        "colab": {
          "base_uri": "https://localhost:8080/"
        },
        "id": "1LEcr9XpbTTT",
        "outputId": "0d5eeef6-0d05-4be9-ee9c-b2694b16492d"
      },
      "execution_count": null,
      "outputs": [
        {
          "output_type": "execute_result",
          "data": {
            "text/plain": [
              "(3, 1)"
            ]
          },
          "metadata": {},
          "execution_count": 16
        }
      ]
    },
    {
      "cell_type": "code",
      "source": [
        "#We can re-transpose a transposed vector\n",
        "y_u=y_t.T\n",
        "y_u"
      ],
      "metadata": {
        "colab": {
          "base_uri": "https://localhost:8080/"
        },
        "id": "fJnmlfpWdUKy",
        "outputId": "8e7276e1-48e6-4423-b72a-e6d7ee907226"
      },
      "execution_count": null,
      "outputs": [
        {
          "output_type": "execute_result",
          "data": {
            "text/plain": [
              "array([[25,  2,  5]])"
            ]
          },
          "metadata": {},
          "execution_count": 18
        }
      ]
    },
    {
      "cell_type": "markdown",
      "source": [
        "**Vectors in Pytorch and Tensorflow**"
      ],
      "metadata": {
        "id": "5Al0x5DXfC_4"
      }
    },
    {
      "cell_type": "code",
      "source": [
        "import torch\n",
        "import tensorflow as tf\n"
      ],
      "metadata": {
        "id": "j1w7reGdfnbR"
      },
      "execution_count": null,
      "outputs": []
    },
    {
      "cell_type": "code",
      "source": [
        "x_pt = torch.tensor([25,2,5])\n",
        "x_pt"
      ],
      "metadata": {
        "colab": {
          "base_uri": "https://localhost:8080/"
        },
        "id": "aIji6nE1di-a",
        "outputId": "fe91f6fa-e6a8-4fb5-efd2-b352f2e13afa"
      },
      "execution_count": null,
      "outputs": [
        {
          "output_type": "execute_result",
          "data": {
            "text/plain": [
              "tensor([25,  2,  5])"
            ]
          },
          "metadata": {},
          "execution_count": 21
        }
      ]
    },
    {
      "cell_type": "code",
      "source": [
        "x_tf = tf.Variable([25,2,5])\n",
        "x_tf"
      ],
      "metadata": {
        "colab": {
          "base_uri": "https://localhost:8080/"
        },
        "id": "10qMb-xJfmeO",
        "outputId": "778e3fd9-6007-4400-cb57-9b083a168cf3"
      },
      "execution_count": null,
      "outputs": [
        {
          "output_type": "execute_result",
          "data": {
            "text/plain": [
              "<tf.Variable 'Variable:0' shape=(3,) dtype=int32, numpy=array([25,  2,  5], dtype=int32)>"
            ]
          },
          "metadata": {},
          "execution_count": 24
        }
      ]
    },
    {
      "cell_type": "markdown",
      "source": [
        "**Norms and unit vectors**"
      ],
      "metadata": {
        "id": "VJ0ewBGynwNk"
      }
    },
    {
      "cell_type": "code",
      "source": [
        "x = np.array([25,2,5])\n",
        "x"
      ],
      "metadata": {
        "colab": {
          "base_uri": "https://localhost:8080/"
        },
        "id": "tMJDhUGufyzs",
        "outputId": "2577da54-9732-4d56-e268-074d772a70ca"
      },
      "execution_count": null,
      "outputs": [
        {
          "output_type": "execute_result",
          "data": {
            "text/plain": [
              "array([25,  2,  5])"
            ]
          },
          "metadata": {},
          "execution_count": 25
        }
      ]
    },
    {
      "cell_type": "code",
      "source": [
        "# Computing the L2 norm (euclidean distance)\n",
        "np.linalg.norm(x)"
      ],
      "metadata": {
        "colab": {
          "base_uri": "https://localhost:8080/"
        },
        "id": "8A9VgmvFn7EW",
        "outputId": "35e8317e-223e-4c4d-939e-cd18de0c1822"
      },
      "execution_count": null,
      "outputs": [
        {
          "output_type": "execute_result",
          "data": {
            "text/plain": [
              "25.573423705088842"
            ]
          },
          "metadata": {},
          "execution_count": 26
        }
      ]
    },
    {
      "cell_type": "code",
      "source": [
        "(25**2 + 2**2 + 5**2)**(1/2)"
      ],
      "metadata": {
        "colab": {
          "base_uri": "https://localhost:8080/"
        },
        "id": "jk0Awp_HoJEA",
        "outputId": "3d7d1e8e-e791-4575-e39a-e44236b2c7ea"
      },
      "execution_count": null,
      "outputs": [
        {
          "output_type": "execute_result",
          "data": {
            "text/plain": [
              "25.573423705088842"
            ]
          },
          "metadata": {},
          "execution_count": 28
        }
      ]
    },
    {
      "cell_type": "markdown",
      "source": [
        "**L1 NORM** This kind of norm encourages the sparcity leading to the selection of the most relevant features in a ML model\n"
      ],
      "metadata": {
        "id": "4dxb7iQN4ccN"
      }
    },
    {
      "cell_type": "code",
      "source": [
        "x"
      ],
      "metadata": {
        "colab": {
          "base_uri": "https://localhost:8080/"
        },
        "id": "XzWvLE3QoRBX",
        "outputId": "c650bd36-7b4a-4d15-c889-0800b73f6c39"
      },
      "execution_count": null,
      "outputs": [
        {
          "output_type": "execute_result",
          "data": {
            "text/plain": [
              "array([25,  2,  5])"
            ]
          },
          "metadata": {},
          "execution_count": 29
        }
      ]
    },
    {
      "cell_type": "code",
      "source": [
        "(25+2+5)"
      ],
      "metadata": {
        "colab": {
          "base_uri": "https://localhost:8080/"
        },
        "id": "p2FuogqX4r35",
        "outputId": "64f8adbf-2d5d-47a6-bc4e-bb92c26be9f4"
      },
      "execution_count": null,
      "outputs": [
        {
          "output_type": "execute_result",
          "data": {
            "text/plain": [
              "32"
            ]
          },
          "metadata": {},
          "execution_count": 30
        }
      ]
    },
    {
      "cell_type": "markdown",
      "source": [
        "**Squared L^2 norm**"
      ],
      "metadata": {
        "id": "uhdWsVYs5vji"
      }
    },
    {
      "cell_type": "code",
      "source": [
        "x"
      ],
      "metadata": {
        "colab": {
          "base_uri": "https://localhost:8080/"
        },
        "id": "-Tik6Q6O4wOZ",
        "outputId": "185ffac3-3971-4874-d604-40a53566cb7a"
      },
      "execution_count": null,
      "outputs": [
        {
          "output_type": "execute_result",
          "data": {
            "text/plain": [
              "array([25,  2,  5])"
            ]
          },
          "metadata": {},
          "execution_count": 31
        }
      ]
    },
    {
      "cell_type": "code",
      "source": [
        "(25**2 + 2**2 + 5**2)"
      ],
      "metadata": {
        "colab": {
          "base_uri": "https://localhost:8080/"
        },
        "id": "QyTGTyyH50Uj",
        "outputId": "65ab9409-5237-47c5-cd02-dd664dcaca98"
      },
      "execution_count": null,
      "outputs": [
        {
          "output_type": "execute_result",
          "data": {
            "text/plain": [
              "654"
            ]
          },
          "metadata": {},
          "execution_count": 32
        }
      ]
    },
    {
      "cell_type": "code",
      "source": [
        "np.dot(x,x)"
      ],
      "metadata": {
        "colab": {
          "base_uri": "https://localhost:8080/"
        },
        "id": "UO3xO9nf58KS",
        "outputId": "139bd17f-8045-4fc5-ca81-e3b399be4466"
      },
      "execution_count": null,
      "outputs": [
        {
          "output_type": "execute_result",
          "data": {
            "text/plain": [
              "654"
            ]
          },
          "metadata": {},
          "execution_count": 33
        }
      ]
    },
    {
      "cell_type": "markdown",
      "source": [
        "**Max Norm**"
      ],
      "metadata": {
        "id": "rhhDq1Is6uf6"
      }
    },
    {
      "cell_type": "code",
      "source": [
        "x"
      ],
      "metadata": {
        "colab": {
          "base_uri": "https://localhost:8080/"
        },
        "id": "8vr1PcGe5-c1",
        "outputId": "6f1f09c3-f736-4c1a-82d6-cff657b277b5"
      },
      "execution_count": null,
      "outputs": [
        {
          "output_type": "execute_result",
          "data": {
            "text/plain": [
              "array([25,  2,  5])"
            ]
          },
          "metadata": {},
          "execution_count": 34
        }
      ]
    },
    {
      "cell_type": "code",
      "source": [
        "np.max([np.abs(25), np.abs(2), np.abs(5)])"
      ],
      "metadata": {
        "colab": {
          "base_uri": "https://localhost:8080/"
        },
        "id": "fvVueJ-N6xQz",
        "outputId": "6eb634ee-99b7-4c80-efc5-25543bb60414"
      },
      "execution_count": null,
      "outputs": [
        {
          "output_type": "execute_result",
          "data": {
            "text/plain": [
              "25"
            ]
          },
          "metadata": {},
          "execution_count": 38
        }
      ]
    },
    {
      "cell_type": "markdown",
      "source": [
        "# Matrices : 2D tensors vectors"
      ],
      "metadata": {
        "id": "wTR2o8r58tiw"
      }
    },
    {
      "cell_type": "code",
      "source": [
        "import numpy as np"
      ],
      "metadata": {
        "id": "QXpj9-X09Rew"
      },
      "execution_count": null,
      "outputs": []
    },
    {
      "cell_type": "code",
      "source": [
        "# Numpy: nested lists\n",
        "X = np.array([[25,2],[5, 26], [3,7]])\n",
        "X"
      ],
      "metadata": {
        "colab": {
          "base_uri": "https://localhost:8080/"
        },
        "id": "wxwrUgwT8tIZ",
        "outputId": "4e9b06f0-acc2-413b-9f6d-86126ce5b963"
      },
      "execution_count": null,
      "outputs": [
        {
          "output_type": "execute_result",
          "data": {
            "text/plain": [
              "array([[25,  2],\n",
              "       [ 5, 26],\n",
              "       [ 3,  7]])"
            ]
          },
          "metadata": {},
          "execution_count": 3
        }
      ]
    },
    {
      "cell_type": "code",
      "source": [
        "X.shape"
      ],
      "metadata": {
        "id": "zsRBr6pz61bP",
        "colab": {
          "base_uri": "https://localhost:8080/"
        },
        "outputId": "1a459317-d9c5-4adb-d6c7-c4e2252402c5"
      },
      "execution_count": null,
      "outputs": [
        {
          "output_type": "execute_result",
          "data": {
            "text/plain": [
              "(3, 2)"
            ]
          },
          "metadata": {},
          "execution_count": 4
        }
      ]
    },
    {
      "cell_type": "code",
      "source": [
        "X.size"
      ],
      "metadata": {
        "colab": {
          "base_uri": "https://localhost:8080/"
        },
        "id": "Z9AkxvXR9WAs",
        "outputId": "ca48ff0d-f8a2-4ee5-b2b2-f9db0384de0b"
      },
      "execution_count": null,
      "outputs": [
        {
          "output_type": "execute_result",
          "data": {
            "text/plain": [
              "6"
            ]
          },
          "metadata": {},
          "execution_count": 5
        }
      ]
    },
    {
      "cell_type": "code",
      "source": [
        "# Select a particular column\n",
        "X[:,0]"
      ],
      "metadata": {
        "colab": {
          "base_uri": "https://localhost:8080/"
        },
        "id": "t1jc8kzZ9XJ7",
        "outputId": "dbda8ade-9f75-477d-8e4b-c6ddf05ff167"
      },
      "execution_count": null,
      "outputs": [
        {
          "output_type": "execute_result",
          "data": {
            "text/plain": [
              "array([25,  5,  3])"
            ]
          },
          "metadata": {},
          "execution_count": 6
        }
      ]
    },
    {
      "cell_type": "code",
      "source": [
        "X[:,1]"
      ],
      "metadata": {
        "colab": {
          "base_uri": "https://localhost:8080/"
        },
        "id": "HzkjIiUk9v7N",
        "outputId": "acc6ccfb-f324-4eab-92eb-9e5535993b19"
      },
      "execution_count": null,
      "outputs": [
        {
          "output_type": "execute_result",
          "data": {
            "text/plain": [
              "array([ 2, 26,  7])"
            ]
          },
          "metadata": {},
          "execution_count": 7
        }
      ]
    },
    {
      "cell_type": "code",
      "source": [
        "X[1:,]"
      ],
      "metadata": {
        "colab": {
          "base_uri": "https://localhost:8080/"
        },
        "id": "bEUAldFj95-Z",
        "outputId": "a1eb95e9-cd71-4a9c-eade-6eb5c2317a96"
      },
      "execution_count": null,
      "outputs": [
        {
          "output_type": "execute_result",
          "data": {
            "text/plain": [
              "array([[ 5, 26],\n",
              "       [ 3,  7]])"
            ]
          },
          "metadata": {},
          "execution_count": 9
        }
      ]
    },
    {
      "cell_type": "code",
      "source": [
        "Y = np.array([[3,2,4,6], [6,5,7,8], [10,11,12,13]])\n",
        "Y"
      ],
      "metadata": {
        "colab": {
          "base_uri": "https://localhost:8080/"
        },
        "id": "uzyLwsay-nCE",
        "outputId": "a18aeded-50d3-439c-cbd2-72b31ed17e50"
      },
      "execution_count": null,
      "outputs": [
        {
          "output_type": "execute_result",
          "data": {
            "text/plain": [
              "array([[ 3,  2,  4,  6],\n",
              "       [ 6,  5,  7,  8],\n",
              "       [10, 11, 12, 13]])"
            ]
          },
          "metadata": {},
          "execution_count": 13
        }
      ]
    },
    {
      "cell_type": "code",
      "source": [
        "Y = Y[:, 1:2]\n",
        "Y"
      ],
      "metadata": {
        "colab": {
          "base_uri": "https://localhost:8080/"
        },
        "id": "yeB24kMR_04m",
        "outputId": "7ccc0559-abca-4401-af29-6de63ea5a35c"
      },
      "execution_count": null,
      "outputs": [
        {
          "output_type": "execute_result",
          "data": {
            "text/plain": [
              "array([[ 2],\n",
              "       [ 5],\n",
              "       [11]])"
            ]
          },
          "metadata": {},
          "execution_count": 14
        }
      ]
    },
    {
      "cell_type": "markdown",
      "source": [
        "# Matrices in Pytorch"
      ],
      "metadata": {
        "id": "gOmiiCYT-jAV"
      }
    },
    {
      "cell_type": "code",
      "source": [
        "import torch"
      ],
      "metadata": {
        "id": "YoUBCwxHAsT_"
      },
      "execution_count": null,
      "outputs": []
    },
    {
      "cell_type": "code",
      "source": [
        "X_pt = torch.tensor([[25,2], [5,26], [3,7]])\n",
        "X_pt"
      ],
      "metadata": {
        "colab": {
          "base_uri": "https://localhost:8080/"
        },
        "id": "iWAYMpVEAZFd",
        "outputId": "092de9aa-da6b-4146-85b5-8eaa7c54f382"
      },
      "execution_count": null,
      "outputs": [
        {
          "output_type": "execute_result",
          "data": {
            "text/plain": [
              "tensor([[25,  2],\n",
              "        [ 5, 26],\n",
              "        [ 3,  7]])"
            ]
          },
          "metadata": {},
          "execution_count": 17
        }
      ]
    },
    {
      "cell_type": "code",
      "source": [
        "X_pt.shape"
      ],
      "metadata": {
        "colab": {
          "base_uri": "https://localhost:8080/"
        },
        "id": "hSV6d6ppArpE",
        "outputId": "5c50652d-3b05-4969-cdc6-3aa7d039777f"
      },
      "execution_count": null,
      "outputs": [
        {
          "output_type": "execute_result",
          "data": {
            "text/plain": [
              "torch.Size([3, 2])"
            ]
          },
          "metadata": {},
          "execution_count": 19
        }
      ]
    },
    {
      "cell_type": "code",
      "source": [
        "X_pt[1, :]"
      ],
      "metadata": {
        "colab": {
          "base_uri": "https://localhost:8080/"
        },
        "id": "uU7HPEwvAxzv",
        "outputId": "1fd9bab8-5016-498e-e472-42c4ec294e77"
      },
      "execution_count": null,
      "outputs": [
        {
          "output_type": "execute_result",
          "data": {
            "text/plain": [
              "tensor([ 5, 26])"
            ]
          },
          "metadata": {},
          "execution_count": 20
        }
      ]
    },
    {
      "cell_type": "markdown",
      "source": [
        "# Matrices in Tensorflow\n"
      ],
      "metadata": {
        "id": "zPX8WxuLA9qA"
      }
    },
    {
      "cell_type": "code",
      "source": [
        "import tensorflow as tf"
      ],
      "metadata": {
        "id": "cV7JpmeoBMon"
      },
      "execution_count": null,
      "outputs": []
    },
    {
      "cell_type": "code",
      "source": [
        "X_tf = tf.Variable([[25,2], [5,26], [3,7]])\n",
        "X_tf"
      ],
      "metadata": {
        "colab": {
          "base_uri": "https://localhost:8080/"
        },
        "id": "JCKYgnkzBBOZ",
        "outputId": "b8ddd8b3-b825-4b41-a9cc-fabe906a85d6"
      },
      "execution_count": null,
      "outputs": [
        {
          "output_type": "execute_result",
          "data": {
            "text/plain": [
              "<tf.Variable 'Variable:0' shape=(3, 2) dtype=int32, numpy=\n",
              "array([[25,  2],\n",
              "       [ 5, 26],\n",
              "       [ 3,  7]], dtype=int32)>"
            ]
          },
          "metadata": {},
          "execution_count": 25
        }
      ]
    },
    {
      "cell_type": "code",
      "source": [
        "#to ask the dimensionality\n",
        "tf.rank(X_tf)"
      ],
      "metadata": {
        "colab": {
          "base_uri": "https://localhost:8080/"
        },
        "id": "xQUrTp7UBMC0",
        "outputId": "16f94ef1-ab6e-46bb-dd1a-32ffaffad1a3"
      },
      "execution_count": null,
      "outputs": [
        {
          "output_type": "execute_result",
          "data": {
            "text/plain": [
              "<tf.Tensor: shape=(), dtype=int32, numpy=2>"
            ]
          },
          "metadata": {},
          "execution_count": 26
        }
      ]
    },
    {
      "cell_type": "code",
      "source": [
        "tf.shape(X_tf)"
      ],
      "metadata": {
        "colab": {
          "base_uri": "https://localhost:8080/"
        },
        "id": "Vyajpa_sBYc4",
        "outputId": "b6510586-2570-49cd-8554-471c2436c107"
      },
      "execution_count": null,
      "outputs": [
        {
          "output_type": "execute_result",
          "data": {
            "text/plain": [
              "<tf.Tensor: shape=(2,), dtype=int32, numpy=array([3, 2], dtype=int32)>"
            ]
          },
          "metadata": {},
          "execution_count": 27
        }
      ]
    },
    {
      "cell_type": "markdown",
      "source": [
        "# Higher- Rank tensors"
      ],
      "metadata": {
        "id": "wQeDa4QWFHGR"
      }
    },
    {
      "cell_type": "code",
      "source": [
        "# For instance in the MNIST dataset we have a batch of 32 images\n",
        "# 28 pixels per width and height and 3 RGB colours\n",
        "images_pt = torch.zeros([32,28,28,3])\n",
        "images_pt"
      ],
      "metadata": {
        "colab": {
          "base_uri": "https://localhost:8080/"
        },
        "id": "9mXJIgHSFG2N",
        "outputId": "bc0c58ee-dde6-4e9b-c995-d3bbea5d6c23"
      },
      "execution_count": null,
      "outputs": [
        {
          "output_type": "execute_result",
          "data": {
            "text/plain": [
              "tensor([[[[0., 0., 0.],\n",
              "          [0., 0., 0.],\n",
              "          [0., 0., 0.],\n",
              "          ...,\n",
              "          [0., 0., 0.],\n",
              "          [0., 0., 0.],\n",
              "          [0., 0., 0.]],\n",
              "\n",
              "         [[0., 0., 0.],\n",
              "          [0., 0., 0.],\n",
              "          [0., 0., 0.],\n",
              "          ...,\n",
              "          [0., 0., 0.],\n",
              "          [0., 0., 0.],\n",
              "          [0., 0., 0.]],\n",
              "\n",
              "         [[0., 0., 0.],\n",
              "          [0., 0., 0.],\n",
              "          [0., 0., 0.],\n",
              "          ...,\n",
              "          [0., 0., 0.],\n",
              "          [0., 0., 0.],\n",
              "          [0., 0., 0.]],\n",
              "\n",
              "         ...,\n",
              "\n",
              "         [[0., 0., 0.],\n",
              "          [0., 0., 0.],\n",
              "          [0., 0., 0.],\n",
              "          ...,\n",
              "          [0., 0., 0.],\n",
              "          [0., 0., 0.],\n",
              "          [0., 0., 0.]],\n",
              "\n",
              "         [[0., 0., 0.],\n",
              "          [0., 0., 0.],\n",
              "          [0., 0., 0.],\n",
              "          ...,\n",
              "          [0., 0., 0.],\n",
              "          [0., 0., 0.],\n",
              "          [0., 0., 0.]],\n",
              "\n",
              "         [[0., 0., 0.],\n",
              "          [0., 0., 0.],\n",
              "          [0., 0., 0.],\n",
              "          ...,\n",
              "          [0., 0., 0.],\n",
              "          [0., 0., 0.],\n",
              "          [0., 0., 0.]]],\n",
              "\n",
              "\n",
              "        [[[0., 0., 0.],\n",
              "          [0., 0., 0.],\n",
              "          [0., 0., 0.],\n",
              "          ...,\n",
              "          [0., 0., 0.],\n",
              "          [0., 0., 0.],\n",
              "          [0., 0., 0.]],\n",
              "\n",
              "         [[0., 0., 0.],\n",
              "          [0., 0., 0.],\n",
              "          [0., 0., 0.],\n",
              "          ...,\n",
              "          [0., 0., 0.],\n",
              "          [0., 0., 0.],\n",
              "          [0., 0., 0.]],\n",
              "\n",
              "         [[0., 0., 0.],\n",
              "          [0., 0., 0.],\n",
              "          [0., 0., 0.],\n",
              "          ...,\n",
              "          [0., 0., 0.],\n",
              "          [0., 0., 0.],\n",
              "          [0., 0., 0.]],\n",
              "\n",
              "         ...,\n",
              "\n",
              "         [[0., 0., 0.],\n",
              "          [0., 0., 0.],\n",
              "          [0., 0., 0.],\n",
              "          ...,\n",
              "          [0., 0., 0.],\n",
              "          [0., 0., 0.],\n",
              "          [0., 0., 0.]],\n",
              "\n",
              "         [[0., 0., 0.],\n",
              "          [0., 0., 0.],\n",
              "          [0., 0., 0.],\n",
              "          ...,\n",
              "          [0., 0., 0.],\n",
              "          [0., 0., 0.],\n",
              "          [0., 0., 0.]],\n",
              "\n",
              "         [[0., 0., 0.],\n",
              "          [0., 0., 0.],\n",
              "          [0., 0., 0.],\n",
              "          ...,\n",
              "          [0., 0., 0.],\n",
              "          [0., 0., 0.],\n",
              "          [0., 0., 0.]]],\n",
              "\n",
              "\n",
              "        [[[0., 0., 0.],\n",
              "          [0., 0., 0.],\n",
              "          [0., 0., 0.],\n",
              "          ...,\n",
              "          [0., 0., 0.],\n",
              "          [0., 0., 0.],\n",
              "          [0., 0., 0.]],\n",
              "\n",
              "         [[0., 0., 0.],\n",
              "          [0., 0., 0.],\n",
              "          [0., 0., 0.],\n",
              "          ...,\n",
              "          [0., 0., 0.],\n",
              "          [0., 0., 0.],\n",
              "          [0., 0., 0.]],\n",
              "\n",
              "         [[0., 0., 0.],\n",
              "          [0., 0., 0.],\n",
              "          [0., 0., 0.],\n",
              "          ...,\n",
              "          [0., 0., 0.],\n",
              "          [0., 0., 0.],\n",
              "          [0., 0., 0.]],\n",
              "\n",
              "         ...,\n",
              "\n",
              "         [[0., 0., 0.],\n",
              "          [0., 0., 0.],\n",
              "          [0., 0., 0.],\n",
              "          ...,\n",
              "          [0., 0., 0.],\n",
              "          [0., 0., 0.],\n",
              "          [0., 0., 0.]],\n",
              "\n",
              "         [[0., 0., 0.],\n",
              "          [0., 0., 0.],\n",
              "          [0., 0., 0.],\n",
              "          ...,\n",
              "          [0., 0., 0.],\n",
              "          [0., 0., 0.],\n",
              "          [0., 0., 0.]],\n",
              "\n",
              "         [[0., 0., 0.],\n",
              "          [0., 0., 0.],\n",
              "          [0., 0., 0.],\n",
              "          ...,\n",
              "          [0., 0., 0.],\n",
              "          [0., 0., 0.],\n",
              "          [0., 0., 0.]]],\n",
              "\n",
              "\n",
              "        ...,\n",
              "\n",
              "\n",
              "        [[[0., 0., 0.],\n",
              "          [0., 0., 0.],\n",
              "          [0., 0., 0.],\n",
              "          ...,\n",
              "          [0., 0., 0.],\n",
              "          [0., 0., 0.],\n",
              "          [0., 0., 0.]],\n",
              "\n",
              "         [[0., 0., 0.],\n",
              "          [0., 0., 0.],\n",
              "          [0., 0., 0.],\n",
              "          ...,\n",
              "          [0., 0., 0.],\n",
              "          [0., 0., 0.],\n",
              "          [0., 0., 0.]],\n",
              "\n",
              "         [[0., 0., 0.],\n",
              "          [0., 0., 0.],\n",
              "          [0., 0., 0.],\n",
              "          ...,\n",
              "          [0., 0., 0.],\n",
              "          [0., 0., 0.],\n",
              "          [0., 0., 0.]],\n",
              "\n",
              "         ...,\n",
              "\n",
              "         [[0., 0., 0.],\n",
              "          [0., 0., 0.],\n",
              "          [0., 0., 0.],\n",
              "          ...,\n",
              "          [0., 0., 0.],\n",
              "          [0., 0., 0.],\n",
              "          [0., 0., 0.]],\n",
              "\n",
              "         [[0., 0., 0.],\n",
              "          [0., 0., 0.],\n",
              "          [0., 0., 0.],\n",
              "          ...,\n",
              "          [0., 0., 0.],\n",
              "          [0., 0., 0.],\n",
              "          [0., 0., 0.]],\n",
              "\n",
              "         [[0., 0., 0.],\n",
              "          [0., 0., 0.],\n",
              "          [0., 0., 0.],\n",
              "          ...,\n",
              "          [0., 0., 0.],\n",
              "          [0., 0., 0.],\n",
              "          [0., 0., 0.]]],\n",
              "\n",
              "\n",
              "        [[[0., 0., 0.],\n",
              "          [0., 0., 0.],\n",
              "          [0., 0., 0.],\n",
              "          ...,\n",
              "          [0., 0., 0.],\n",
              "          [0., 0., 0.],\n",
              "          [0., 0., 0.]],\n",
              "\n",
              "         [[0., 0., 0.],\n",
              "          [0., 0., 0.],\n",
              "          [0., 0., 0.],\n",
              "          ...,\n",
              "          [0., 0., 0.],\n",
              "          [0., 0., 0.],\n",
              "          [0., 0., 0.]],\n",
              "\n",
              "         [[0., 0., 0.],\n",
              "          [0., 0., 0.],\n",
              "          [0., 0., 0.],\n",
              "          ...,\n",
              "          [0., 0., 0.],\n",
              "          [0., 0., 0.],\n",
              "          [0., 0., 0.]],\n",
              "\n",
              "         ...,\n",
              "\n",
              "         [[0., 0., 0.],\n",
              "          [0., 0., 0.],\n",
              "          [0., 0., 0.],\n",
              "          ...,\n",
              "          [0., 0., 0.],\n",
              "          [0., 0., 0.],\n",
              "          [0., 0., 0.]],\n",
              "\n",
              "         [[0., 0., 0.],\n",
              "          [0., 0., 0.],\n",
              "          [0., 0., 0.],\n",
              "          ...,\n",
              "          [0., 0., 0.],\n",
              "          [0., 0., 0.],\n",
              "          [0., 0., 0.]],\n",
              "\n",
              "         [[0., 0., 0.],\n",
              "          [0., 0., 0.],\n",
              "          [0., 0., 0.],\n",
              "          ...,\n",
              "          [0., 0., 0.],\n",
              "          [0., 0., 0.],\n",
              "          [0., 0., 0.]]],\n",
              "\n",
              "\n",
              "        [[[0., 0., 0.],\n",
              "          [0., 0., 0.],\n",
              "          [0., 0., 0.],\n",
              "          ...,\n",
              "          [0., 0., 0.],\n",
              "          [0., 0., 0.],\n",
              "          [0., 0., 0.]],\n",
              "\n",
              "         [[0., 0., 0.],\n",
              "          [0., 0., 0.],\n",
              "          [0., 0., 0.],\n",
              "          ...,\n",
              "          [0., 0., 0.],\n",
              "          [0., 0., 0.],\n",
              "          [0., 0., 0.]],\n",
              "\n",
              "         [[0., 0., 0.],\n",
              "          [0., 0., 0.],\n",
              "          [0., 0., 0.],\n",
              "          ...,\n",
              "          [0., 0., 0.],\n",
              "          [0., 0., 0.],\n",
              "          [0., 0., 0.]],\n",
              "\n",
              "         ...,\n",
              "\n",
              "         [[0., 0., 0.],\n",
              "          [0., 0., 0.],\n",
              "          [0., 0., 0.],\n",
              "          ...,\n",
              "          [0., 0., 0.],\n",
              "          [0., 0., 0.],\n",
              "          [0., 0., 0.]],\n",
              "\n",
              "         [[0., 0., 0.],\n",
              "          [0., 0., 0.],\n",
              "          [0., 0., 0.],\n",
              "          ...,\n",
              "          [0., 0., 0.],\n",
              "          [0., 0., 0.],\n",
              "          [0., 0., 0.]],\n",
              "\n",
              "         [[0., 0., 0.],\n",
              "          [0., 0., 0.],\n",
              "          [0., 0., 0.],\n",
              "          ...,\n",
              "          [0., 0., 0.],\n",
              "          [0., 0., 0.],\n",
              "          [0., 0., 0.]]]])"
            ]
          },
          "metadata": {},
          "execution_count": 28
        }
      ]
    },
    {
      "cell_type": "code",
      "source": [
        "# Tensorflow\n",
        "images_tf = tf.zeros([32,28,28,3])\n",
        "images_tf"
      ],
      "metadata": {
        "colab": {
          "base_uri": "https://localhost:8080/"
        },
        "id": "uA6-9MTcBc8P",
        "outputId": "b42cacab-8e94-4e6c-caf2-f933fc162ee0"
      },
      "execution_count": null,
      "outputs": [
        {
          "output_type": "execute_result",
          "data": {
            "text/plain": [
              "<tf.Tensor: shape=(32, 28, 28, 3), dtype=float32, numpy=\n",
              "array([[[[0., 0., 0.],\n",
              "         [0., 0., 0.],\n",
              "         [0., 0., 0.],\n",
              "         ...,\n",
              "         [0., 0., 0.],\n",
              "         [0., 0., 0.],\n",
              "         [0., 0., 0.]],\n",
              "\n",
              "        [[0., 0., 0.],\n",
              "         [0., 0., 0.],\n",
              "         [0., 0., 0.],\n",
              "         ...,\n",
              "         [0., 0., 0.],\n",
              "         [0., 0., 0.],\n",
              "         [0., 0., 0.]],\n",
              "\n",
              "        [[0., 0., 0.],\n",
              "         [0., 0., 0.],\n",
              "         [0., 0., 0.],\n",
              "         ...,\n",
              "         [0., 0., 0.],\n",
              "         [0., 0., 0.],\n",
              "         [0., 0., 0.]],\n",
              "\n",
              "        ...,\n",
              "\n",
              "        [[0., 0., 0.],\n",
              "         [0., 0., 0.],\n",
              "         [0., 0., 0.],\n",
              "         ...,\n",
              "         [0., 0., 0.],\n",
              "         [0., 0., 0.],\n",
              "         [0., 0., 0.]],\n",
              "\n",
              "        [[0., 0., 0.],\n",
              "         [0., 0., 0.],\n",
              "         [0., 0., 0.],\n",
              "         ...,\n",
              "         [0., 0., 0.],\n",
              "         [0., 0., 0.],\n",
              "         [0., 0., 0.]],\n",
              "\n",
              "        [[0., 0., 0.],\n",
              "         [0., 0., 0.],\n",
              "         [0., 0., 0.],\n",
              "         ...,\n",
              "         [0., 0., 0.],\n",
              "         [0., 0., 0.],\n",
              "         [0., 0., 0.]]],\n",
              "\n",
              "\n",
              "       [[[0., 0., 0.],\n",
              "         [0., 0., 0.],\n",
              "         [0., 0., 0.],\n",
              "         ...,\n",
              "         [0., 0., 0.],\n",
              "         [0., 0., 0.],\n",
              "         [0., 0., 0.]],\n",
              "\n",
              "        [[0., 0., 0.],\n",
              "         [0., 0., 0.],\n",
              "         [0., 0., 0.],\n",
              "         ...,\n",
              "         [0., 0., 0.],\n",
              "         [0., 0., 0.],\n",
              "         [0., 0., 0.]],\n",
              "\n",
              "        [[0., 0., 0.],\n",
              "         [0., 0., 0.],\n",
              "         [0., 0., 0.],\n",
              "         ...,\n",
              "         [0., 0., 0.],\n",
              "         [0., 0., 0.],\n",
              "         [0., 0., 0.]],\n",
              "\n",
              "        ...,\n",
              "\n",
              "        [[0., 0., 0.],\n",
              "         [0., 0., 0.],\n",
              "         [0., 0., 0.],\n",
              "         ...,\n",
              "         [0., 0., 0.],\n",
              "         [0., 0., 0.],\n",
              "         [0., 0., 0.]],\n",
              "\n",
              "        [[0., 0., 0.],\n",
              "         [0., 0., 0.],\n",
              "         [0., 0., 0.],\n",
              "         ...,\n",
              "         [0., 0., 0.],\n",
              "         [0., 0., 0.],\n",
              "         [0., 0., 0.]],\n",
              "\n",
              "        [[0., 0., 0.],\n",
              "         [0., 0., 0.],\n",
              "         [0., 0., 0.],\n",
              "         ...,\n",
              "         [0., 0., 0.],\n",
              "         [0., 0., 0.],\n",
              "         [0., 0., 0.]]],\n",
              "\n",
              "\n",
              "       [[[0., 0., 0.],\n",
              "         [0., 0., 0.],\n",
              "         [0., 0., 0.],\n",
              "         ...,\n",
              "         [0., 0., 0.],\n",
              "         [0., 0., 0.],\n",
              "         [0., 0., 0.]],\n",
              "\n",
              "        [[0., 0., 0.],\n",
              "         [0., 0., 0.],\n",
              "         [0., 0., 0.],\n",
              "         ...,\n",
              "         [0., 0., 0.],\n",
              "         [0., 0., 0.],\n",
              "         [0., 0., 0.]],\n",
              "\n",
              "        [[0., 0., 0.],\n",
              "         [0., 0., 0.],\n",
              "         [0., 0., 0.],\n",
              "         ...,\n",
              "         [0., 0., 0.],\n",
              "         [0., 0., 0.],\n",
              "         [0., 0., 0.]],\n",
              "\n",
              "        ...,\n",
              "\n",
              "        [[0., 0., 0.],\n",
              "         [0., 0., 0.],\n",
              "         [0., 0., 0.],\n",
              "         ...,\n",
              "         [0., 0., 0.],\n",
              "         [0., 0., 0.],\n",
              "         [0., 0., 0.]],\n",
              "\n",
              "        [[0., 0., 0.],\n",
              "         [0., 0., 0.],\n",
              "         [0., 0., 0.],\n",
              "         ...,\n",
              "         [0., 0., 0.],\n",
              "         [0., 0., 0.],\n",
              "         [0., 0., 0.]],\n",
              "\n",
              "        [[0., 0., 0.],\n",
              "         [0., 0., 0.],\n",
              "         [0., 0., 0.],\n",
              "         ...,\n",
              "         [0., 0., 0.],\n",
              "         [0., 0., 0.],\n",
              "         [0., 0., 0.]]],\n",
              "\n",
              "\n",
              "       ...,\n",
              "\n",
              "\n",
              "       [[[0., 0., 0.],\n",
              "         [0., 0., 0.],\n",
              "         [0., 0., 0.],\n",
              "         ...,\n",
              "         [0., 0., 0.],\n",
              "         [0., 0., 0.],\n",
              "         [0., 0., 0.]],\n",
              "\n",
              "        [[0., 0., 0.],\n",
              "         [0., 0., 0.],\n",
              "         [0., 0., 0.],\n",
              "         ...,\n",
              "         [0., 0., 0.],\n",
              "         [0., 0., 0.],\n",
              "         [0., 0., 0.]],\n",
              "\n",
              "        [[0., 0., 0.],\n",
              "         [0., 0., 0.],\n",
              "         [0., 0., 0.],\n",
              "         ...,\n",
              "         [0., 0., 0.],\n",
              "         [0., 0., 0.],\n",
              "         [0., 0., 0.]],\n",
              "\n",
              "        ...,\n",
              "\n",
              "        [[0., 0., 0.],\n",
              "         [0., 0., 0.],\n",
              "         [0., 0., 0.],\n",
              "         ...,\n",
              "         [0., 0., 0.],\n",
              "         [0., 0., 0.],\n",
              "         [0., 0., 0.]],\n",
              "\n",
              "        [[0., 0., 0.],\n",
              "         [0., 0., 0.],\n",
              "         [0., 0., 0.],\n",
              "         ...,\n",
              "         [0., 0., 0.],\n",
              "         [0., 0., 0.],\n",
              "         [0., 0., 0.]],\n",
              "\n",
              "        [[0., 0., 0.],\n",
              "         [0., 0., 0.],\n",
              "         [0., 0., 0.],\n",
              "         ...,\n",
              "         [0., 0., 0.],\n",
              "         [0., 0., 0.],\n",
              "         [0., 0., 0.]]],\n",
              "\n",
              "\n",
              "       [[[0., 0., 0.],\n",
              "         [0., 0., 0.],\n",
              "         [0., 0., 0.],\n",
              "         ...,\n",
              "         [0., 0., 0.],\n",
              "         [0., 0., 0.],\n",
              "         [0., 0., 0.]],\n",
              "\n",
              "        [[0., 0., 0.],\n",
              "         [0., 0., 0.],\n",
              "         [0., 0., 0.],\n",
              "         ...,\n",
              "         [0., 0., 0.],\n",
              "         [0., 0., 0.],\n",
              "         [0., 0., 0.]],\n",
              "\n",
              "        [[0., 0., 0.],\n",
              "         [0., 0., 0.],\n",
              "         [0., 0., 0.],\n",
              "         ...,\n",
              "         [0., 0., 0.],\n",
              "         [0., 0., 0.],\n",
              "         [0., 0., 0.]],\n",
              "\n",
              "        ...,\n",
              "\n",
              "        [[0., 0., 0.],\n",
              "         [0., 0., 0.],\n",
              "         [0., 0., 0.],\n",
              "         ...,\n",
              "         [0., 0., 0.],\n",
              "         [0., 0., 0.],\n",
              "         [0., 0., 0.]],\n",
              "\n",
              "        [[0., 0., 0.],\n",
              "         [0., 0., 0.],\n",
              "         [0., 0., 0.],\n",
              "         ...,\n",
              "         [0., 0., 0.],\n",
              "         [0., 0., 0.],\n",
              "         [0., 0., 0.]],\n",
              "\n",
              "        [[0., 0., 0.],\n",
              "         [0., 0., 0.],\n",
              "         [0., 0., 0.],\n",
              "         ...,\n",
              "         [0., 0., 0.],\n",
              "         [0., 0., 0.],\n",
              "         [0., 0., 0.]]],\n",
              "\n",
              "\n",
              "       [[[0., 0., 0.],\n",
              "         [0., 0., 0.],\n",
              "         [0., 0., 0.],\n",
              "         ...,\n",
              "         [0., 0., 0.],\n",
              "         [0., 0., 0.],\n",
              "         [0., 0., 0.]],\n",
              "\n",
              "        [[0., 0., 0.],\n",
              "         [0., 0., 0.],\n",
              "         [0., 0., 0.],\n",
              "         ...,\n",
              "         [0., 0., 0.],\n",
              "         [0., 0., 0.],\n",
              "         [0., 0., 0.]],\n",
              "\n",
              "        [[0., 0., 0.],\n",
              "         [0., 0., 0.],\n",
              "         [0., 0., 0.],\n",
              "         ...,\n",
              "         [0., 0., 0.],\n",
              "         [0., 0., 0.],\n",
              "         [0., 0., 0.]],\n",
              "\n",
              "        ...,\n",
              "\n",
              "        [[0., 0., 0.],\n",
              "         [0., 0., 0.],\n",
              "         [0., 0., 0.],\n",
              "         ...,\n",
              "         [0., 0., 0.],\n",
              "         [0., 0., 0.],\n",
              "         [0., 0., 0.]],\n",
              "\n",
              "        [[0., 0., 0.],\n",
              "         [0., 0., 0.],\n",
              "         [0., 0., 0.],\n",
              "         ...,\n",
              "         [0., 0., 0.],\n",
              "         [0., 0., 0.],\n",
              "         [0., 0., 0.]],\n",
              "\n",
              "        [[0., 0., 0.],\n",
              "         [0., 0., 0.],\n",
              "         [0., 0., 0.],\n",
              "         ...,\n",
              "         [0., 0., 0.],\n",
              "         [0., 0., 0.],\n",
              "         [0., 0., 0.]]]], dtype=float32)>"
            ]
          },
          "metadata": {},
          "execution_count": 29
        }
      ]
    },
    {
      "cell_type": "code",
      "source": [],
      "metadata": {
        "id": "7DGNHM8tGvDZ"
      },
      "execution_count": null,
      "outputs": []
    }
  ]
}